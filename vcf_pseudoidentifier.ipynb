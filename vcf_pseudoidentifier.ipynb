{
 "cells": [
  {
   "cell_type": "code",
   "execution_count": 43,
   "metadata": {},
   "outputs": [],
   "source": [
    "import hashlib\n",
    "import random"
   ]
  },
  {
   "cell_type": "markdown",
   "metadata": {},
   "source": [
    "# Conversion of IAMRARE ID with MD5 Hashing"
   ]
  },
  {
   "cell_type": "code",
   "execution_count": 44,
   "metadata": {},
   "outputs": [
    {
     "name": "stdout",
     "output_type": "stream",
     "text": [
      "Generated patient ID: 2446\n"
     ]
    }
   ],
   "source": [
    "patient_ID = str(random.randint(0,9999))\n",
    "print(f\"Generated patient ID: {patient_ID}\")"
   ]
  },
  {
   "cell_type": "code",
   "execution_count": 45,
   "metadata": {},
   "outputs": [],
   "source": [
    "# Object creation\n",
    "m = hashlib.md5()\n",
    "m.update(b\"{patient_ID}\")"
   ]
  },
  {
   "cell_type": "markdown",
   "metadata": {},
   "source": [
    "### Patient ID hashed to byte value"
   ]
  },
  {
   "cell_type": "code",
   "execution_count": 46,
   "metadata": {},
   "outputs": [
    {
     "name": "stdout",
     "output_type": "stream",
     "text": [
      "Byte value: b\"('\\xa7>\\xb7i\\xdf\\xf049\\x85\\xfc\\x88<\\xaaJ\"\n"
     ]
    }
   ],
   "source": [
    "byte_value = m.digest()\n",
    "print(f\"Byte value: {byte_value}\")\n"
   ]
  },
  {
   "cell_type": "markdown",
   "metadata": {},
   "source": [
    "### Byte value shown as hexadecimal"
   ]
  },
  {
   "cell_type": "code",
   "execution_count": 47,
   "metadata": {},
   "outputs": [
    {
     "name": "stdout",
     "output_type": "stream",
     "text": [
      "Hexadecimal value: 2827a73eb769dff0343985fc883caa4a\n"
     ]
    }
   ],
   "source": [
    "hex_value = m.hexdigest()\n",
    "print(f\"Hexadecimal value: {hex_value}\")"
   ]
  },
  {
   "cell_type": "markdown",
   "metadata": {},
   "source": [
    "### Patient ID to MD5Hash"
   ]
  },
  {
   "cell_type": "code",
   "execution_count": 48,
   "metadata": {},
   "outputs": [
    {
     "name": "stdout",
     "output_type": "stream",
     "text": [
      "Generated patient ID: 5927\n",
      "Byte value: b'\\xc8\\xaf\\xe8\\x05\\xc0\\x97\\xda\\xb1\\xf1\\xe5\\xbd\\xd5\\x7f\\x8d)1'\n",
      "Hexadecimal value: c8afe805c097dab1f1e5bdd57f8d2931\n"
     ]
    }
   ],
   "source": [
    "import hashlib\n",
    "import random\n",
    "\n",
    "# Generate a random patient ID (0 to 9999) and convert it to a string\n",
    "patient_ID = str(random.randint(0, 9999))\n",
    "print(f\"Generated patient ID: {patient_ID}\")\n",
    "\n",
    "# Create an MD5 hash object\n",
    "m = hashlib.md5()\n",
    "\n",
    "# Update the hash object with the patient ID (formatted as bytes)\n",
    "m.update(patient_ID.encode())  # Properly encode the string as bytes\n",
    "\n",
    "# Get the hashed value in byte format\n",
    "byte_value = m.digest()\n",
    "print(f\"Byte value: {byte_value}\")\n",
    "\n",
    "# Get the hashed value in hexadecimal format\n",
    "hex_value = m.hexdigest()\n",
    "print(f\"Hexadecimal value: {hex_value}\")\n",
    "\n",
    "# Essentially, this turns the patient ID into a fixed-length 128-bit (32-character) \n",
    "# hexadecimal hash, ensuring obfuscation while maintaining a consistent format.\n"
   ]
  },
  {
   "cell_type": "markdown",
   "metadata": {},
   "source": [
    "# AES 128 encryption key generation and connection with MD5 Hashed ID in IAMRARE"
   ]
  },
  {
   "cell_type": "code",
   "execution_count": 49,
   "metadata": {},
   "outputs": [
    {
     "name": "stdout",
     "output_type": "stream",
     "text": [
      "c8afe805c097dab1f1e5bdd57f8d2931\n"
     ]
    }
   ],
   "source": [
    "print(hex_value)"
   ]
  },
  {
   "cell_type": "code",
   "execution_count": 50,
   "metadata": {},
   "outputs": [
    {
     "name": "stdout",
     "output_type": "stream",
     "text": [
      "b'c8afe805c097dab1f1e5bdd57f8d2931'\n",
      "AES key: 9a0a358d2588aa10043f7553b25d5202\n",
      "Cipher text: 73e6c22ed1c7fcc91af311113b4dd1f861e120fa6cf0517d7e166182168185dd\n"
     ]
    }
   ],
   "source": [
    "from Crypto.Cipher import AES\n",
    "from Crypto.Random import get_random_bytes\n",
    "\n",
    "data = hex_value.encode()\n",
    "\n",
    "print(data)\n",
    "\n",
    "aes_key = get_random_bytes(16)\n",
    "print(f\"AES key: {aes_key.hex()}\")\n",
    "\n",
    "cipher = AES.new(aes_key, AES.MODE_CTR)\n",
    "ciphertext = cipher.encrypt(data)\n",
    "print(f\"Cipher text: {ciphertext.hex()}\")"
   ]
  },
  {
   "cell_type": "code",
   "execution_count": 51,
   "metadata": {},
   "outputs": [
    {
     "name": "stdout",
     "output_type": "stream",
     "text": [
      "c8afe805c097dab1f1e5bdd57f8d2931\n"
     ]
    }
   ],
   "source": [
    "print(data.decode())"
   ]
  },
  {
   "cell_type": "markdown",
   "metadata": {},
   "source": [
    "# Test Example 1 - AES_CTR\n",
    "* Pros: Fast, no padding needed, parallelizable\t<br>\n",
    "* Cons: No authentication (use HMAC separately)\n"
   ]
  },
  {
   "cell_type": "code",
   "execution_count": 52,
   "metadata": {},
   "outputs": [],
   "source": [
    "from Crypto.Cipher import AES\n",
    "from Crypto.Hash import HMAC, SHA256\n",
    "from Crypto.Random import get_random_bytes\n",
    "\n",
    "data = 'secret data to transmit'.encode()\n",
    "\n",
    "aes_key = get_random_bytes(16)\n",
    "hmac_key = get_random_bytes(16)\n",
    "\n",
    "cipher = AES.new(aes_key, AES.MODE_CTR)\n",
    "ciphertext = cipher.encrypt(data)\n",
    "\n",
    "hmac = HMAC.new(hmac_key, digestmod=SHA256)\n",
    "tag = hmac.update(cipher.nonce + ciphertext).digest()\n",
    "\n",
    "with open(\"encrypted.bin\", \"wb\") as f:\n",
    "    f.write(tag)\n",
    "    f.write(cipher.nonce)\n",
    "    f.write(ciphertext)\n",
    "\n",
    "# Share securely aes_key and hmac_key with the receiver\n",
    "# encrypted.bin can be sent over an unsecure channel"
   ]
  },
  {
   "cell_type": "code",
   "execution_count": 53,
   "metadata": {},
   "outputs": [
    {
     "name": "stdout",
     "output_type": "stream",
     "text": [
      "Message: secret data to transmit\n"
     ]
    }
   ],
   "source": [
    "import sys\n",
    "from Crypto.Cipher import AES\n",
    "from Crypto.Hash import HMAC, SHA256\n",
    "\n",
    "# Somehow, the receiver securely get aes_key and hmac_key\n",
    "# encrypted.bin can be sent over an unsecure channel\n",
    "\n",
    "with open(\"encrypted.bin\", \"rb\") as f:\n",
    "    tag = f.read(32)\n",
    "    nonce = f.read(8)\n",
    "    ciphertext = f.read()\n",
    "\n",
    "try:\n",
    "    hmac = HMAC.new(hmac_key, digestmod=SHA256)\n",
    "    tag = hmac.update(nonce + ciphertext).verify(tag)\n",
    "except ValueError:\n",
    "    print(\"The message was modified!\")\n",
    "    sys.exit(1)\n",
    "\n",
    "cipher = AES.new(aes_key, AES.MODE_CTR, nonce=nonce)\n",
    "message = cipher.decrypt(ciphertext)\n",
    "print(\"Message:\", message.decode())"
   ]
  },
  {
   "cell_type": "markdown",
   "metadata": {},
   "source": [
    "# Test Example 2 - AES_CBC\n",
    "* Pros: Secure, widely used\t<br>\n",
    "* Cons: Needs padding, needs HMAC for integrity\n"
   ]
  },
  {
   "cell_type": "code",
   "execution_count": 54,
   "metadata": {},
   "outputs": [
    {
     "name": "stdout",
     "output_type": "stream",
     "text": [
      "IV: 7bde5a0f3f39fd658efc45de143cbc94\n",
      "PWD: 3e83b13d99bf0de6c6bde5ac5ca4ae68\n",
      "MSG: c8afe805c097dab1f1e5bdd57f8d2931\n",
      "OUT: tSPSn0Scdj2uEsGaNkvHpWvp+uYCq27FQI0PUJzL3DHiOXeCjw3ohg6oegOFFQ6e\n",
      "PT: c8afe805c097dab1f1e5bdd57f8d2931\n"
     ]
    }
   ],
   "source": [
    "from base64 import b64encode, b64decode\n",
    "from binascii import unhexlify\n",
    "\n",
    "from Crypto.Cipher import AES\n",
    "from Crypto.Util.Padding import pad, unpad\n",
    "\n",
    "iv = \"7bde5a0f3f39fd658efc45de143cbc94\"\n",
    "password = \"3e83b13d99bf0de6c6bde5ac5ca4ae68\"\n",
    "# msg = \"this is a message\"\n",
    "msg = hex_value\n",
    "\n",
    "print(f\"IV: {iv}\")\n",
    "print(f\"PWD: {password}\")\n",
    "print(f\"MSG: {msg}\")\n",
    "\n",
    "# Convert Hex String to Binary\n",
    "iv = unhexlify(iv)\n",
    "password = unhexlify(password)\n",
    "\n",
    "# Pad to AES Block Size\n",
    "msg = pad(msg.encode(), AES.block_size)\n",
    "# Encipher Text\n",
    "cipher = AES.new(password, AES.MODE_CBC, iv)\n",
    "cipher_text = cipher.encrypt(msg)\n",
    "\n",
    "# Encode Cipher_text as Base 64 and decode to String\n",
    "out = b64encode(cipher_text).decode('utf-8')\n",
    "print(f\"OUT: {out}\")\n",
    "\n",
    "# Decipher cipher text\n",
    "decipher = AES.new(password, AES.MODE_CBC, iv)\n",
    "# UnPad Based on AES Block Size\n",
    "plaintext = unpad(decipher.decrypt(b64decode(out)), AES.block_size).decode('utf-8')\n",
    "print(f'PT: {plaintext}')"
   ]
  },
  {
   "cell_type": "markdown",
   "metadata": {},
   "source": [
    "# Test Example 3 - AES_GCM THIS \n",
    "# SEEMS LIKE THE BEST FOR CURRENT USE CASE\n",
    "* Pros: Best security, authenticated, no padding needed\t<br>\n",
    "* Cons: Slightly more complex\n"
   ]
  },
  {
   "cell_type": "code",
   "execution_count": 55,
   "metadata": {},
   "outputs": [
    {
     "name": "stdout",
     "output_type": "stream",
     "text": [
      "Encrypted: 1kUeS4RsdoJ0Pqx9Aj11QpbTruDAgJV26bxmJ+0WO/x1bV78X3oW6WUeA6l0aDFidzhRTm+KhS1DWNeA\n",
      "Decrypted: Hello, this is a secret message!\n"
     ]
    }
   ],
   "source": [
    "from Crypto.Cipher import AES\n",
    "from Crypto.Random import get_random_bytes\n",
    "\n",
    "# This module is for converting ASCII characters ⇄ binary64. \n",
    "# Base64 is NOT encryption. It makes binary data text-friendly.\n",
    "from base64 import b64encode, b64decode\n",
    "\n",
    "# Generate a random 16-byte key\n",
    "key = get_random_bytes(16)\n",
    "\n",
    "\n",
    "# #NOTE: .encode() and .decode() handle converting strings ⇄ bytes for encryption & decryption.\n",
    "\n",
    "\n",
    "def encrypt(plaintext, key):\n",
    "    # Generate a random 12-byte nonce\n",
    "    \n",
    "    nonce = get_random_bytes(12)\n",
    "    \n",
    "    # Create AES-GCM cipher object\n",
    "    cipher = AES.new(key, AES.MODE_GCM, nonce=nonce)\n",
    "    \n",
    "    # Encrypt and generate authentication tag\n",
    "    ciphertext, tag = cipher.encrypt_and_digest(plaintext.encode())\n",
    "\n",
    "    # Encode everything as Base64 for easy storage/transmission\n",
    "    return b64encode(nonce + ciphertext + tag).decode()\n",
    "\n",
    "def decrypt(encrypted_text, key):\n",
    "    # Decode Base64\n",
    "    encrypted_data = b64decode(encrypted_text)\n",
    "\n",
    "    # Extract nonce, ciphertext, and tag\n",
    "\n",
    "    # #NOTE: A Nonce (Number Used Once) is a random or unique value that is used only once in a cryptographic operation.\n",
    "    # #NOTE: It prevents replay attacks and ensures that the same plaintext encrypted multiple times produces different ciphertexts.\n",
    "    nonce = encrypted_data[:12]\n",
    "    \n",
    "    ciphertext = encrypted_data[12:-16]\n",
    "\n",
    "    # #NOTE: The authentication tag (tag) ensures data integrity and authenticity.\n",
    "    # #NOTE: It verifies that the encrypted data has not been altered or tampered with.\n",
    "    # #NOTE: If the tag does not match during decryption, an error will be raised, preventing unauthorized modifications.\n",
    "    tag = encrypted_data[-16:]\n",
    "    \n",
    "    # Decrypt using the same nonce\n",
    "    cipher = AES.new(key, AES.MODE_GCM, nonce=nonce)\n",
    "    plaintext = cipher.decrypt_and_verify(ciphertext, tag)\n",
    "    \n",
    "    return plaintext.decode()\n",
    "\n",
    "# Example Usage\n",
    "message = \"Hello, this is a secret message!\"\n",
    "encrypted_message = encrypt(message, key)\n",
    "decrypted_message = decrypt(encrypted_message, key)\n",
    "\n",
    "print(\"Encrypted:\", encrypted_message)\n",
    "print(\"Decrypted:\", decrypted_message)\n"
   ]
  },
  {
   "cell_type": "markdown",
   "metadata": {},
   "source": [
    "# FINAL PIPELINE TEST:"
   ]
  },
  {
   "cell_type": "markdown",
   "metadata": {},
   "source": [
    "## 1. Save Patient ID, Hashed ID, and Key to a TSV File\n"
   ]
  },
  {
   "cell_type": "code",
   "execution_count": 56,
   "metadata": {},
   "outputs": [
    {
     "name": "stdout",
     "output_type": "stream",
     "text": [
      "Generated participant ID: 7705\n",
      "Hashed participant ID: 76d4110e944e83212bafa4b11ebf2b7e\n"
     ]
    }
   ],
   "source": [
    "import hashlib\n",
    "import random\n",
    "from Crypto.Random import get_random_bytes\n",
    "from base64 import b64encode\n",
    "import os\n",
    "\n",
    "# Generate a random participant ID (0 to 9999) and convert it to a string\n",
    "participant_ID = str(random.randint(0, 9999))\n",
    "print(f\"Generated participant ID: {participant_ID}\")\n",
    "\n",
    "# Step 1: Hash using MD5\n",
    "m = hashlib.md5()\n",
    "m.update(participant_ID.encode())  # Encode the string as bytes\n",
    "hashed_participant_id = m.hexdigest()\n",
    "print(f\"Hashed participant ID: {hashed_participant_id}\")\n",
    "\n",
    "# Generate a random 16-byte AES key\n",
    "key = get_random_bytes(16)\n",
    "\n",
    "##### SAVE DATA FOR DEMO ######\n",
    "\n",
    "# File path for saving data\n",
    "participant_data_file = 'participant_data.tsv'\n",
    "\n",
    "# Check if the file exists, if not, write headers\n",
    "if not os.path.exists(participant_data_file):\n",
    "    with open(participant_data_file, 'w') as file:\n",
    "        file.write(\"Participant ID\\tHashed ID\\tAES Key (Base64)\\n\")  # Writing headers\n",
    "\n",
    "# Save Participant ID, Hashed ID, and AES Key to a TSV file\n",
    "with open(participant_data_file, 'a') as file:  # Open in append mode\n",
    "    file.write(f\"{participant_ID}\\t{hashed_participant_id}\\t{b64encode(key).decode()}\\n\")\n"
   ]
  },
  {
   "cell_type": "code",
   "execution_count": 57,
   "metadata": {},
   "outputs": [
    {
     "name": "stdout",
     "output_type": "stream",
     "text": [
      "The AES key: CK3xIClQ3TbC1QMEAkCPwA==\n"
     ]
    }
   ],
   "source": [
    "print(f'The AES key: {b64encode(key).decode()}')"
   ]
  },
  {
   "cell_type": "markdown",
   "metadata": {},
   "source": [
    "## 2. Encrypt the Hashed Patient ID and Save to a Different TSV File\n",
    "\n"
   ]
  },
  {
   "cell_type": "code",
   "execution_count": 58,
   "metadata": {},
   "outputs": [
    {
     "name": "stdout",
     "output_type": "stream",
     "text": [
      "Nonce:b'Q6<\\xa1B\\x84\\x90\\x96\\x14\\x01\\x1c\\xe9'\n",
      "Ciphertext:b\"\\x10yw\\xf4\\xfbY`\\x97\\xe5\\xdayJXA\\xb7\\xc9\\xa8\\xb0\\xa8C\\xd4\\x13\\xe7\\x92\\xaf0\\xc6\\x89\\xe9c'\\xa2\"\n",
      "Tag:b'\\xa5\\xfb\\xc8)\\xe2+\\xec\\x9f\\xb3\\xa7\\x82\\xab\\x1b@\\x89\\xd6'\n",
      "Encrypted (AES) participant ID: UTY8oUKEkJYUARzpEHl39PtZYJfl2nlKWEG3yaiwqEPUE+eSrzDGieljJ6Kl+8gp4ivsn7OngqsbQInW\n"
     ]
    }
   ],
   "source": [
    "from Crypto.Cipher import AES\n",
    "from base64 import b64encode\n",
    "\n",
    "# Encrypt function as defined earlier\n",
    "def encrypt(plaintext, key):\n",
    "    # Generate a random 12-byte nonce (for AES-GCM)\n",
    "    nonce = get_random_bytes(12)\n",
    "    print(f\"Nonce:{nonce}\")\n",
    "\n",
    "    # Create AES-GCM cipher object\n",
    "    cipher = AES.new(key, AES.MODE_GCM, nonce=nonce)\n",
    "    \n",
    "    # Encrypt and generate authentication tag\n",
    "    ciphertext, tag = cipher.encrypt_and_digest(plaintext.encode())\n",
    "    print(f\"Ciphertext:{ciphertext}\")\n",
    "    print(f\"Tag:{tag}\")\n",
    "    # Encode everything as Base64 for easy storage/transmission\n",
    "    return b64encode(nonce + ciphertext + tag).decode()\n",
    "\n",
    "# Encrypt the Hashed participant ID\n",
    "encrypted_participant_id = encrypt(hashed_participant_id, key)\n",
    "print(f\"Encrypted (AES) participant ID: {encrypted_participant_id}\")\n",
    "\n",
    "# File path for saving encrypted data\n",
    "encrypted_participant_data_file = 'encrypted_participant_data.tsv'\n",
    "\n",
    "# Check if the file exists, if not, write headers\n",
    "if not os.path.exists(encrypted_participant_data_file):\n",
    "    with open(encrypted_participant_data_file, 'w') as file:\n",
    "        file.write(\"Hashed ID\\tEncrypted Participant ID\\n\")  # Writing headers\n",
    "\n",
    "# Save Hashed ID and Encrypted Participant ID to a TSV file\n",
    "with open(encrypted_participant_data_file, 'a') as file:  # Open in append mode\n",
    "    file.write(f\"{hashed_participant_id}\\t{encrypted_participant_id}\\n\")\n"
   ]
  },
  {
   "cell_type": "code",
   "execution_count": 59,
   "metadata": {},
   "outputs": [
    {
     "data": {
      "text/plain": [
       "80"
      ]
     },
     "execution_count": 59,
     "metadata": {},
     "output_type": "execute_result"
    }
   ],
   "source": [
    "len(\"mnVIdmDpoO/TLshRApY6VQ==\")\n",
    "len('uoo2MIbVPQ7ko2WzI79GRy+bvT0UN76AYHrnnpDfcxEso/91535bT1mRdEhhmnigIGeyxOFs2n5XthT1')"
   ]
  },
  {
   "cell_type": "code",
   "execution_count": 60,
   "metadata": {},
   "outputs": [
    {
     "name": "stdout",
     "output_type": "stream",
     "text": [
      "32\n",
      "Nonce:f7b94b5e4f8eafa3\n",
      "Ciphertext:e558f89c78014bb3983c40a17c62db30b744bacecaae74\n",
      "Tag:382b21162fb55dc2ca75425825b8b368\n"
     ]
    }
   ],
   "source": [
    "print(len(key.hex()))\n",
    "print(f\"Nonce:{nonce.hex()}\")\n",
    "print(f\"Ciphertext:{ciphertext.hex()}\")\n",
    "tag = b'8+!\\x16/\\xb5]\\xc2\\xcauBX%\\xb8\\xb3h'\n",
    "print(f\"Tag:{tag.hex()}\")"
   ]
  },
  {
   "cell_type": "markdown",
   "metadata": {},
   "source": [
    "## 3. Decrypt the Encrypted Participant ID. <br>\n",
    "## Asks for 2 inputs: AES Key and Encrypted Participant ID\n",
    "## This is an terminal interactive script\n",
    "\n"
   ]
  },
  {
   "cell_type": "code",
   "execution_count": 65,
   "metadata": {},
   "outputs": [
    {
     "name": "stdout",
     "output_type": "stream",
     "text": [
      "Initial MD5 Hash Input (Hashed Participant ID): 76d4110e944e83212bafa4b11ebf2b7e\n",
      "Decrypted Participant ID: 76d4110e944e83212bafa4b11ebf2b7e\n"
     ]
    }
   ],
   "source": [
    "from Crypto.Cipher import AES\n",
    "from base64 import b64decode\n",
    "\n",
    "# Decrypt function as defined earlier\n",
    "def decrypt(encrypted_text, key):\n",
    "    # Decode Base64\n",
    "    encrypted_data = b64decode(encrypted_text)\n",
    "\n",
    "    # Extract nonce, ciphertext, and tag\n",
    "    nonce = encrypted_data[:12]\n",
    "    ciphertext = encrypted_data[12:-16]\n",
    "    tag = encrypted_data[-16:]\n",
    "\n",
    "    # Decrypt using the same nonce\n",
    "    cipher = AES.new(key, AES.MODE_GCM, nonce=nonce)\n",
    "    plaintext = cipher.decrypt_and_verify(ciphertext, tag)\n",
    "\n",
    "    return plaintext.decode()\n",
    "\n",
    "# Get AES key input from the user\n",
    "key_input = input(\"Enter the AES key (Base64 encoded): \")\n",
    "key = b64decode(key_input)  # Decode the input key from Base64\n",
    "\n",
    "# Get the encrypted participant ID input from the user\n",
    "encrypted_participant_id_input = input(\"Enter the encrypted participant ID (Base64 encoded): \")\n",
    "\n",
    "# Decrypt the encrypted participant ID\n",
    "decrypted_participant_id = decrypt(encrypted_participant_id_input, key)\n",
    "\n",
    "# Print the decrypted participant ID\n",
    "print(f\"Initial MD5 Hash Input (Hashed Participant ID): {hashed_participant_id}\")\n",
    "print(f\"Decrypted Participant ID: {decrypted_participant_id}\")\n"
   ]
  },
  {
   "cell_type": "markdown",
   "metadata": {},
   "source": [
    "# Unix epoch timestamp "
   ]
  },
  {
   "cell_type": "code",
   "execution_count": 62,
   "metadata": {},
   "outputs": [
    {
     "name": "stdout",
     "output_type": "stream",
     "text": [
      "1746851964.996321\n"
     ]
    }
   ],
   "source": [
    "import time\n",
    "\n",
    "timestamp = time.time()\n",
    "print(timestamp)"
   ]
  },
  {
   "cell_type": "code",
   "execution_count": 63,
   "metadata": {},
   "outputs": [
    {
     "name": "stdout",
     "output_type": "stream",
     "text": [
      "1746851965.0065382\n"
     ]
    }
   ],
   "source": [
    "import time\n",
    "\n",
    "timestamp = time.time()\n",
    "print(timestamp)\n"
   ]
  },
  {
   "cell_type": "code",
   "execution_count": 64,
   "metadata": {},
   "outputs": [
    {
     "name": "stdout",
     "output_type": "stream",
     "text": [
      "2025-04-05 13:54:33.036140\n"
     ]
    }
   ],
   "source": [
    "import datetime\n",
    "\n",
    "timestamp = 1743886473.0361397\n",
    "\n",
    "dt_object = datetime.datetime.fromtimestamp(timestamp)\n",
    "print(dt_object)"
   ]
  }
 ],
 "metadata": {
  "kernelspec": {
   "display_name": "iamrare_phenodb_psdnym",
   "language": "python",
   "name": "python3"
  },
  "language_info": {
   "codemirror_mode": {
    "name": "ipython",
    "version": 3
   },
   "file_extension": ".py",
   "mimetype": "text/x-python",
   "name": "python",
   "nbconvert_exporter": "python",
   "pygments_lexer": "ipython3",
   "version": "3.13.2"
  }
 },
 "nbformat": 4,
 "nbformat_minor": 2
}
